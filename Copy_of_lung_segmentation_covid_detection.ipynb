{
  "nbformat": 4,
  "nbformat_minor": 0,
  "metadata": {
    "colab": {
      "name": "Copy of lung-segmentation-covid-detection.ipynb",
      "provenance": [],
      "collapsed_sections": []
    },
    "kernelspec": {
      "display_name": "Python 3",
      "name": "python3"
    },
    "language_info": {
      "name": "python"
    },
    "accelerator": "GPU"
  },
  "cells": [
    {
      "cell_type": "code",
      "metadata": {
        "id": "iuHrkCWrLu7v"
      },
      "source": [
        "from google.colab import drive\n",
        "drive.mount('/content/drive')"
      ],
      "execution_count": null,
      "outputs": []
    },
    {
      "cell_type": "markdown",
      "metadata": {
        "id": "zdH3CBQaRlZy"
      },
      "source": [
        "# **Dependencies**"
      ]
    },
    {
      "cell_type": "code",
      "metadata": {
        "id": "bjpKMVSNGqAU"
      },
      "source": [
        "import torch\n",
        "import torchvision\n",
        "import torch.nn as nn\n",
        "import torch.nn.functional as F\n",
        "from torch.utils.data import Dataset\n",
        "import os\n",
        "import cv2\n",
        "from glob import glob\n",
        "from torch.utils.data import DataLoader\n",
        "from tqdm import tqdm\n",
        "import matplotlib.pyplot as plt\n",
        "import numpy as np\n",
        "torch.manual_seed(0)"
      ],
      "execution_count": null,
      "outputs": []
    },
    {
      "cell_type": "markdown",
      "metadata": {
        "id": "gIVNIyyTSfd_"
      },
      "source": [
        "# **Dataset Preparation**\n",
        "\n",
        "\n"
      ]
    },
    {
      "cell_type": "code",
      "metadata": {
        "id": "QvaXdH92dgEI"
      },
      "source": [
        "COVID_IMAGE_DIR=\"/content/drive/MyDrive/chest-xray-dataset/images/covid\"\n",
        "COVID_MASK_DIR=\"/content/drive/MyDrive/chest-xray-dataset/masks/covid\"\n",
        "covid_images=[]\n",
        "covid_masks=glob(os.path.join(COVID_MASK_DIR,\"*\"))\n",
        "for mask in covid_masks:\n",
        "  img_path=COVID_IMAGE_DIR+\"/\"+os.path.basename(mask)[:-9]+\".png\"\n",
        "  if img_path not in glob(os.path.join(COVID_IMAGE_DIR,\"*\")):\n",
        "    print(img_path)\n",
        "  else:\n",
        "    covid_images.append(img_path)\n",
        "\n",
        "PNEUMONIA_IMAGE_DIR=\"/content/drive/MyDrive/chest-xray-dataset/images/pneumonia\"\n",
        "PNEUMONIA_MASK_DIR=\"/content/drive/MyDrive/chest-xray-dataset/masks/pneumonia\"\n",
        "pneumonia_images=[]\n",
        "pneumonia_masks=glob(os.path.join(PNEUMONIA_MASK_DIR,\"*\"))\n",
        "for mask in pneumonia_masks:\n",
        "  img_path=PNEUMONIA_IMAGE_DIR+\"/\"+os.path.basename(mask)[:-9]+\".png\"\n",
        "  if img_path not in glob(os.path.join(PNEUMONIA_IMAGE_DIR,\"*\")):\n",
        "    print(img_path)\n",
        "  else:\n",
        "    pneumonia_images.append(img_path)\n",
        "\n",
        "NORMAL_IMAGE_DIR=\"/content/drive/MyDrive/chest-xray-dataset/images/normal\"\n",
        "NORMAL_MASK_DIR=\"/content/drive/MyDrive/chest-xray-dataset/masks/normal\"\n",
        "normal_images=[]\n",
        "normal_masks=glob(os.path.join(NORMAL_MASK_DIR,\"*\"))\n",
        "for mask in normal_masks:\n",
        "  img_path=NORMAL_IMAGE_DIR+\"/\"+os.path.basename(mask)[:-9]+\".png\"\n",
        "  if img_path not in glob(os.path.join(NORMAL_IMAGE_DIR,\"*\")):\n",
        "    print(img_path)\n",
        "  else:\n",
        "    normal_images.append(img_path)\n",
        "\n",
        "\n",
        "images=covid_images[:]+pneumonia_images[:]+normal_images[:]\n",
        "\n",
        "masks=covid_masks[:]+pneumonia_masks[:]+normal_masks[:]\n",
        "\n",
        "\n",
        "print(\"no. of covid images :\",len(covid_images))\n",
        "print(\"no. of covid masks :\",len(covid_masks))\n",
        "print(\"no. of normal images :\",len(normal_images))\n",
        "print(\"no. of normal masks :\",len(normal_masks))\n",
        "print(\"no. of pneumonia images :\",len(pneumonia_images))\n",
        "print(\"no. of pneumonia masks :\",len(pneumonia_masks))"
      ],
      "execution_count": null,
      "outputs": []
    },
    {
      "cell_type": "code",
      "metadata": {
        "id": "oQELMadlHOIo"
      },
      "source": [
        "class ChestXRAYDataset(Dataset):\n",
        "  def __init__(self,images,masks,transform=None):\n",
        "    \n",
        "    self.transform=transform\n",
        "    self.images=images\n",
        "    self.masks=masks\n",
        "  def __getitem__(self,index):\n",
        "    img=cv2.imread(self.images[index])\n",
        "    mask=cv2.imread(self.masks[index],0)\n",
        "    img=cv2.resize(img,(512,512))\n",
        "    mask=cv2.resize(mask,(512,512))\n",
        "    \n",
        "    if self.transform is not None:\n",
        "      img=self.transform(img)\n",
        "      mask=self.transform(mask)\n",
        "    return img,mask\n",
        "  def __len__(self):\n",
        "    return len(self.images)\n",
        "      "
      ],
      "execution_count": null,
      "outputs": []
    },
    {
      "cell_type": "markdown",
      "metadata": {
        "id": "rogxKYHATvyb"
      },
      "source": [
        "# **Load and Transform**"
      ]
    },
    {
      "cell_type": "code",
      "metadata": {
        "id": "HuLqxXJBT_2F"
      },
      "source": [
        "\n",
        "BATCH_SIZE=1"
      ],
      "execution_count": null,
      "outputs": []
    },
    {
      "cell_type": "code",
      "metadata": {
        "id": "iUY4aQxwNn8U"
      },
      "source": [
        "transform=torchvision.transforms.Compose([\n",
        "      torchvision.transforms.ToTensor(),\n",
        "      torchvision.transforms.Normalize(mean=[0.],std=[1.]),\n",
        "      \n",
        "])"
      ],
      "execution_count": null,
      "outputs": []
    },
    {
      "cell_type": "code",
      "metadata": {
        "id": "ZqwZHQYM1n3x"
      },
      "source": [
        "dataset = ChestXRAYDataset(images, masks,transform=transform)"
      ],
      "execution_count": null,
      "outputs": []
    },
    {
      "cell_type": "code",
      "metadata": {
        "id": "1ORrAv4O1uwm"
      },
      "source": [
        "total = len(images)\n",
        "p_10 = int(total*0.1)\n",
        "train_size = total - p_10*2"
      ],
      "execution_count": null,
      "outputs": []
    },
    {
      "cell_type": "code",
      "metadata": {
        "id": "Te-czFs_2ThA"
      },
      "source": [
        "train_ds, val_ds, test_ds = torch.utils.data.random_split(dataset, [train_size, p_10, p_10])"
      ],
      "execution_count": null,
      "outputs": []
    },
    {
      "cell_type": "code",
      "metadata": {
        "colab": {
          "base_uri": "https://localhost:8080/"
        },
        "id": "pCK5k9wf5mPa",
        "outputId": "a7ddc707-8b6e-4f3a-baef-fede0fffc65a"
      },
      "source": [
        "len(train_ds), len(val_ds), len(test_ds)"
      ],
      "execution_count": null,
      "outputs": [
        {
          "output_type": "execute_result",
          "data": {
            "text/plain": [
              "(0, 0, 0)"
            ]
          },
          "metadata": {
            "tags": []
          },
          "execution_count": 9
        }
      ]
    },
    {
      "cell_type": "code",
      "metadata": {
        "id": "rvqJZoe8PIko"
      },
      "source": [
        "train_dl=DataLoader(train_ds,batch_size=BATCH_SIZE,shuffle=True,num_workers=4,pin_memory=True)\n",
        "test_dl=DataLoader(test_ds,batch_size=BATCH_SIZE,num_workers=4,shuffle=True,pin_memory=True)\n",
        "val_dl=DataLoader(val_ds,batch_size=BATCH_SIZE,num_workers=4,shuffle=True,pin_memory=True)"
      ],
      "execution_count": null,
      "outputs": []
    },
    {
      "cell_type": "markdown",
      "metadata": {
        "id": "BohWxA-0UVms"
      },
      "source": [
        "# **Preview**"
      ]
    },
    {
      "cell_type": "code",
      "metadata": {
        "id": "NmZ8_0iXUf_Q"
      },
      "source": [
        "inputs, targets = next(iter(train_dl))\n",
        "print(\"Inputs: \", inputs.size())\n",
        "print(\"Targets: \", targets.size())"
      ],
      "execution_count": null,
      "outputs": []
    },
    {
      "cell_type": "code",
      "metadata": {
        "id": "a04O24OaUjac"
      },
      "source": [
        "inputs, targets = next(iter(train_dl))\n",
        "input_img = inputs[0].permute(1, 2, 0)\n",
        "plt.imshow(input_img.squeeze())\n",
        "plt.show()\n",
        "\n",
        "target_img = targets[0].permute(1, 2, 0)\n",
        "plt.imshow(target_img.squeeze(), cmap='gray')\n",
        "plt.show()"
      ],
      "execution_count": null,
      "outputs": []
    },
    {
      "cell_type": "markdown",
      "metadata": {
        "id": "zBK89E0YUx6p"
      },
      "source": [
        "# **Model**"
      ]
    },
    {
      "cell_type": "markdown",
      "metadata": {
        "id": "WmwCjRAdU13Y"
      },
      "source": [
        "## Architecture"
      ]
    },
    {
      "cell_type": "code",
      "metadata": {
        "id": "GO5OtTFYJlTQ"
      },
      "source": [
        "\n",
        "\n",
        "class DenseLayer(nn.Sequential):\n",
        "    def __init__(self, in_channels, growth_rate):\n",
        "        super().__init__()\n",
        "        self.add_module('norm', nn.BatchNorm2d(in_channels))\n",
        "        self.add_module('relu', nn.ReLU(True))\n",
        "        self.add_module('conv', nn.Conv2d(in_channels, growth_rate, kernel_size=3,\n",
        "                                          stride=1, padding=1, bias=True))\n",
        "        self.add_module('drop', nn.Dropout2d(0.2))\n",
        "        \n",
        "    def forward(self, x):\n",
        "        return super().forward(x)\n",
        "\n",
        "\n",
        "class DenseBlock(nn.Module):\n",
        "    def __init__(self, in_channels, growth_rate, n_layers, upsample=False):\n",
        "        super().__init__()\n",
        "        self.upsample = upsample\n",
        "        self.layers = nn.ModuleList([DenseLayer(\n",
        "            in_channels + i*growth_rate, growth_rate)\n",
        "            for i in range(n_layers)])\n",
        "\n",
        "    def forward(self, x):\n",
        "        if self.upsample:\n",
        "            new_features = []\n",
        "            #we pass all previous activations into each dense layer normally\n",
        "            #But we only store each dense layer's output in the new_features array\n",
        "            for layer in self.layers:\n",
        "                out = layer(x)\n",
        "                x = torch.cat([x, out], 1)\n",
        "                new_features.append(out)\n",
        "            return torch.cat(new_features,1)\n",
        "        else:\n",
        "            for layer in self.layers:\n",
        "                out = layer(x)\n",
        "                x = torch.cat([x, out], 1) # 1 = channel axis\n",
        "            return x\n",
        "\n",
        "\n",
        "class TransitionDown(nn.Sequential):\n",
        "    def __init__(self, in_channels):\n",
        "        super().__init__()\n",
        "        self.add_module('norm', nn.BatchNorm2d(num_features=in_channels))\n",
        "        self.add_module('relu', nn.ReLU(inplace=True))\n",
        "        self.add_module('conv', nn.Conv2d(in_channels, in_channels,\n",
        "                                          kernel_size=1, stride=1,\n",
        "                                          padding=0, bias=True))\n",
        "        self.add_module('drop', nn.Dropout2d(0.2))\n",
        "        self.add_module('maxpool', nn.MaxPool2d(2))\n",
        "\n",
        "    def forward(self, x):\n",
        "        return super().forward(x)\n",
        "\n",
        "\n",
        "class TransitionUp(nn.Module):\n",
        "    def __init__(self, in_channels, out_channels):\n",
        "        super().__init__()\n",
        "        self.convTrans = nn.ConvTranspose2d(\n",
        "            in_channels=in_channels, out_channels=out_channels,\n",
        "            kernel_size=3, stride=2, padding=0, bias=True)\n",
        "\n",
        "    def forward(self, x, skip):\n",
        "        out = self.convTrans(x)\n",
        "        out = center_crop(out, skip.size(2), skip.size(3))\n",
        "        out = torch.cat([out, skip], 1)\n",
        "        return out\n",
        "\n",
        "\n",
        "class Bottleneck(nn.Sequential):\n",
        "    def __init__(self, in_channels, growth_rate, n_layers):\n",
        "        super().__init__()\n",
        "        self.add_module('bottleneck', DenseBlock(\n",
        "            in_channels, growth_rate, n_layers, upsample=True))\n",
        "\n",
        "    def forward(self, x):\n",
        "        return super().forward(x)\n",
        "\n",
        "\n",
        "def center_crop(layer, max_height, max_width):\n",
        "    _, _, h, w = layer.size()\n",
        "    xy1 = (w - max_width) // 2\n",
        "    xy2 = (h - max_height) // 2\n",
        "    return layer[:, :, xy2:(xy2 + max_height), xy1:(xy1 + max_width)]\n",
        "\n",
        "class FCDenseNet(nn.Module):\n",
        "    def __init__(self, in_channels=3, down_blocks=(5,5,5,5,5),\n",
        "                 up_blocks=(5,5,5,5,5), bottleneck_layers=5,\n",
        "                 growth_rate=16, out_chans_first_conv=48, n_classes=12):\n",
        "        super().__init__()\n",
        "        self.down_blocks = down_blocks\n",
        "        self.up_blocks = up_blocks\n",
        "        cur_channels_count = 0\n",
        "        skip_connection_channel_counts = []\n",
        "\n",
        "        ## First Convolution ##\n",
        "\n",
        "        self.add_module('firstconv', nn.Conv2d(in_channels=in_channels,\n",
        "                  out_channels=out_chans_first_conv, kernel_size=3,\n",
        "                  stride=1, padding=1, bias=True))\n",
        "        cur_channels_count = out_chans_first_conv\n",
        "\n",
        "        #####################\n",
        "        # Downsampling path #\n",
        "        #####################\n",
        "\n",
        "        self.denseBlocksDown = nn.ModuleList([])\n",
        "        self.transDownBlocks = nn.ModuleList([])\n",
        "        for i in range(len(down_blocks)):\n",
        "            self.denseBlocksDown.append(\n",
        "                DenseBlock(cur_channels_count, growth_rate, down_blocks[i]))\n",
        "            cur_channels_count += (growth_rate*down_blocks[i])\n",
        "            skip_connection_channel_counts.insert(0,cur_channels_count)\n",
        "            self.transDownBlocks.append(TransitionDown(cur_channels_count))\n",
        "\n",
        "        #####################\n",
        "        #     Bottleneck    #\n",
        "        #####################\n",
        "\n",
        "        self.add_module('bottleneck',Bottleneck(cur_channels_count,\n",
        "                                     growth_rate, bottleneck_layers))\n",
        "        prev_block_channels = growth_rate*bottleneck_layers\n",
        "        cur_channels_count += prev_block_channels\n",
        "\n",
        "        #######################\n",
        "        #   Upsampling path   #\n",
        "        #######################\n",
        "\n",
        "        self.transUpBlocks = nn.ModuleList([])\n",
        "        self.denseBlocksUp = nn.ModuleList([])\n",
        "        for i in range(len(up_blocks)-1):\n",
        "            self.transUpBlocks.append(TransitionUp(prev_block_channels, prev_block_channels))\n",
        "            cur_channels_count = prev_block_channels + skip_connection_channel_counts[i]\n",
        "\n",
        "            self.denseBlocksUp.append(DenseBlock(\n",
        "                cur_channels_count, growth_rate, up_blocks[i],\n",
        "                    upsample=True))\n",
        "            prev_block_channels = growth_rate*up_blocks[i]\n",
        "            cur_channels_count += prev_block_channels\n",
        "\n",
        "        ## Final DenseBlock ##\n",
        "\n",
        "        self.transUpBlocks.append(TransitionUp(\n",
        "            prev_block_channels, prev_block_channels))\n",
        "        cur_channels_count = prev_block_channels + skip_connection_channel_counts[-1]\n",
        "\n",
        "        self.denseBlocksUp.append(DenseBlock(\n",
        "            cur_channels_count, growth_rate, up_blocks[-1],\n",
        "                upsample=False))\n",
        "        cur_channels_count += growth_rate*up_blocks[-1]\n",
        "\n",
        "        ## Softmax ##\n",
        "\n",
        "        self.finalConv = nn.Conv2d(in_channels=cur_channels_count,\n",
        "               out_channels=n_classes, kernel_size=1, stride=1,\n",
        "                   padding=0, bias=True)\n",
        "        self.softmax = nn.LogSoftmax(dim=1)\n",
        "\n",
        "    def forward(self, x):\n",
        "        out = self.firstconv(x)\n",
        "\n",
        "        skip_connections = []\n",
        "        for i in range(len(self.down_blocks)):\n",
        "            out = self.denseBlocksDown[i](out)\n",
        "            skip_connections.append(out)\n",
        "            out = self.transDownBlocks[i](out)\n",
        "\n",
        "        out = self.bottleneck(out)\n",
        "        for i in range(len(self.up_blocks)):\n",
        "            skip = skip_connections.pop()\n",
        "            out = self.transUpBlocks[i](out, skip)\n",
        "            out = self.denseBlocksUp[i](out)\n",
        "\n",
        "        out = self.finalConv(out)\n",
        "        out = self.softmax(out)\n",
        "        return out\n"
      ],
      "execution_count": null,
      "outputs": []
    },
    {
      "cell_type": "code",
      "metadata": {
        "id": "xn3ecbPJVeQq"
      },
      "source": [
        "def FCDenseNet103(n_classes):\n",
        "    return FCDenseNet(\n",
        "        in_channels=3, down_blocks=(4,5,7,10,12),\n",
        "        up_blocks=(12,10,7,5,4), bottleneck_layers=15,\n",
        "        growth_rate=16, out_chans_first_conv=48, n_classes=n_classes)"
      ],
      "execution_count": null,
      "outputs": []
    },
    {
      "cell_type": "markdown",
      "metadata": {
        "id": "_t6hvOkzVf99"
      },
      "source": [
        "## Implementation"
      ]
    },
    {
      "cell_type": "code",
      "metadata": {
        "id": "GJRdZhTkKQkQ"
      },
      "source": [
        "model=FCDenseNet103(2)"
      ],
      "execution_count": null,
      "outputs": []
    },
    {
      "cell_type": "code",
      "metadata": {
        "id": "mFFt0kkOOHb6",
        "colab": {
          "base_uri": "https://localhost:8080/"
        },
        "outputId": "9dde9a5f-77f1-4834-c8bb-7921724058a7"
      },
      "source": [
        "device = torch.device(\"cuda\" if torch.cuda.is_available() else \"cpu\")\n",
        "print(device)"
      ],
      "execution_count": null,
      "outputs": [
        {
          "output_type": "stream",
          "text": [
            "cuda\n"
          ],
          "name": "stdout"
        }
      ]
    },
    {
      "cell_type": "code",
      "metadata": {
        "colab": {
          "base_uri": "https://localhost:8080/"
        },
        "id": "hNUKM0dnQWvy",
        "outputId": "7380142e-4028-4a0d-a318-480ae4c30e79"
      },
      "source": [
        "model.to(device)"
      ],
      "execution_count": null,
      "outputs": [
        {
          "output_type": "execute_result",
          "data": {
            "text/plain": [
              "FCDenseNet(\n",
              "  (firstconv): Conv2d(3, 48, kernel_size=(3, 3), stride=(1, 1), padding=(1, 1))\n",
              "  (denseBlocksDown): ModuleList(\n",
              "    (0): DenseBlock(\n",
              "      (layers): ModuleList(\n",
              "        (0): DenseLayer(\n",
              "          (norm): BatchNorm2d(48, eps=1e-05, momentum=0.1, affine=True, track_running_stats=True)\n",
              "          (relu): ReLU(inplace=True)\n",
              "          (conv): Conv2d(48, 16, kernel_size=(3, 3), stride=(1, 1), padding=(1, 1))\n",
              "          (drop): Dropout2d(p=0.2, inplace=False)\n",
              "        )\n",
              "        (1): DenseLayer(\n",
              "          (norm): BatchNorm2d(64, eps=1e-05, momentum=0.1, affine=True, track_running_stats=True)\n",
              "          (relu): ReLU(inplace=True)\n",
              "          (conv): Conv2d(64, 16, kernel_size=(3, 3), stride=(1, 1), padding=(1, 1))\n",
              "          (drop): Dropout2d(p=0.2, inplace=False)\n",
              "        )\n",
              "        (2): DenseLayer(\n",
              "          (norm): BatchNorm2d(80, eps=1e-05, momentum=0.1, affine=True, track_running_stats=True)\n",
              "          (relu): ReLU(inplace=True)\n",
              "          (conv): Conv2d(80, 16, kernel_size=(3, 3), stride=(1, 1), padding=(1, 1))\n",
              "          (drop): Dropout2d(p=0.2, inplace=False)\n",
              "        )\n",
              "        (3): DenseLayer(\n",
              "          (norm): BatchNorm2d(96, eps=1e-05, momentum=0.1, affine=True, track_running_stats=True)\n",
              "          (relu): ReLU(inplace=True)\n",
              "          (conv): Conv2d(96, 16, kernel_size=(3, 3), stride=(1, 1), padding=(1, 1))\n",
              "          (drop): Dropout2d(p=0.2, inplace=False)\n",
              "        )\n",
              "      )\n",
              "    )\n",
              "    (1): DenseBlock(\n",
              "      (layers): ModuleList(\n",
              "        (0): DenseLayer(\n",
              "          (norm): BatchNorm2d(112, eps=1e-05, momentum=0.1, affine=True, track_running_stats=True)\n",
              "          (relu): ReLU(inplace=True)\n",
              "          (conv): Conv2d(112, 16, kernel_size=(3, 3), stride=(1, 1), padding=(1, 1))\n",
              "          (drop): Dropout2d(p=0.2, inplace=False)\n",
              "        )\n",
              "        (1): DenseLayer(\n",
              "          (norm): BatchNorm2d(128, eps=1e-05, momentum=0.1, affine=True, track_running_stats=True)\n",
              "          (relu): ReLU(inplace=True)\n",
              "          (conv): Conv2d(128, 16, kernel_size=(3, 3), stride=(1, 1), padding=(1, 1))\n",
              "          (drop): Dropout2d(p=0.2, inplace=False)\n",
              "        )\n",
              "        (2): DenseLayer(\n",
              "          (norm): BatchNorm2d(144, eps=1e-05, momentum=0.1, affine=True, track_running_stats=True)\n",
              "          (relu): ReLU(inplace=True)\n",
              "          (conv): Conv2d(144, 16, kernel_size=(3, 3), stride=(1, 1), padding=(1, 1))\n",
              "          (drop): Dropout2d(p=0.2, inplace=False)\n",
              "        )\n",
              "        (3): DenseLayer(\n",
              "          (norm): BatchNorm2d(160, eps=1e-05, momentum=0.1, affine=True, track_running_stats=True)\n",
              "          (relu): ReLU(inplace=True)\n",
              "          (conv): Conv2d(160, 16, kernel_size=(3, 3), stride=(1, 1), padding=(1, 1))\n",
              "          (drop): Dropout2d(p=0.2, inplace=False)\n",
              "        )\n",
              "        (4): DenseLayer(\n",
              "          (norm): BatchNorm2d(176, eps=1e-05, momentum=0.1, affine=True, track_running_stats=True)\n",
              "          (relu): ReLU(inplace=True)\n",
              "          (conv): Conv2d(176, 16, kernel_size=(3, 3), stride=(1, 1), padding=(1, 1))\n",
              "          (drop): Dropout2d(p=0.2, inplace=False)\n",
              "        )\n",
              "      )\n",
              "    )\n",
              "    (2): DenseBlock(\n",
              "      (layers): ModuleList(\n",
              "        (0): DenseLayer(\n",
              "          (norm): BatchNorm2d(192, eps=1e-05, momentum=0.1, affine=True, track_running_stats=True)\n",
              "          (relu): ReLU(inplace=True)\n",
              "          (conv): Conv2d(192, 16, kernel_size=(3, 3), stride=(1, 1), padding=(1, 1))\n",
              "          (drop): Dropout2d(p=0.2, inplace=False)\n",
              "        )\n",
              "        (1): DenseLayer(\n",
              "          (norm): BatchNorm2d(208, eps=1e-05, momentum=0.1, affine=True, track_running_stats=True)\n",
              "          (relu): ReLU(inplace=True)\n",
              "          (conv): Conv2d(208, 16, kernel_size=(3, 3), stride=(1, 1), padding=(1, 1))\n",
              "          (drop): Dropout2d(p=0.2, inplace=False)\n",
              "        )\n",
              "        (2): DenseLayer(\n",
              "          (norm): BatchNorm2d(224, eps=1e-05, momentum=0.1, affine=True, track_running_stats=True)\n",
              "          (relu): ReLU(inplace=True)\n",
              "          (conv): Conv2d(224, 16, kernel_size=(3, 3), stride=(1, 1), padding=(1, 1))\n",
              "          (drop): Dropout2d(p=0.2, inplace=False)\n",
              "        )\n",
              "        (3): DenseLayer(\n",
              "          (norm): BatchNorm2d(240, eps=1e-05, momentum=0.1, affine=True, track_running_stats=True)\n",
              "          (relu): ReLU(inplace=True)\n",
              "          (conv): Conv2d(240, 16, kernel_size=(3, 3), stride=(1, 1), padding=(1, 1))\n",
              "          (drop): Dropout2d(p=0.2, inplace=False)\n",
              "        )\n",
              "        (4): DenseLayer(\n",
              "          (norm): BatchNorm2d(256, eps=1e-05, momentum=0.1, affine=True, track_running_stats=True)\n",
              "          (relu): ReLU(inplace=True)\n",
              "          (conv): Conv2d(256, 16, kernel_size=(3, 3), stride=(1, 1), padding=(1, 1))\n",
              "          (drop): Dropout2d(p=0.2, inplace=False)\n",
              "        )\n",
              "        (5): DenseLayer(\n",
              "          (norm): BatchNorm2d(272, eps=1e-05, momentum=0.1, affine=True, track_running_stats=True)\n",
              "          (relu): ReLU(inplace=True)\n",
              "          (conv): Conv2d(272, 16, kernel_size=(3, 3), stride=(1, 1), padding=(1, 1))\n",
              "          (drop): Dropout2d(p=0.2, inplace=False)\n",
              "        )\n",
              "        (6): DenseLayer(\n",
              "          (norm): BatchNorm2d(288, eps=1e-05, momentum=0.1, affine=True, track_running_stats=True)\n",
              "          (relu): ReLU(inplace=True)\n",
              "          (conv): Conv2d(288, 16, kernel_size=(3, 3), stride=(1, 1), padding=(1, 1))\n",
              "          (drop): Dropout2d(p=0.2, inplace=False)\n",
              "        )\n",
              "      )\n",
              "    )\n",
              "    (3): DenseBlock(\n",
              "      (layers): ModuleList(\n",
              "        (0): DenseLayer(\n",
              "          (norm): BatchNorm2d(304, eps=1e-05, momentum=0.1, affine=True, track_running_stats=True)\n",
              "          (relu): ReLU(inplace=True)\n",
              "          (conv): Conv2d(304, 16, kernel_size=(3, 3), stride=(1, 1), padding=(1, 1))\n",
              "          (drop): Dropout2d(p=0.2, inplace=False)\n",
              "        )\n",
              "        (1): DenseLayer(\n",
              "          (norm): BatchNorm2d(320, eps=1e-05, momentum=0.1, affine=True, track_running_stats=True)\n",
              "          (relu): ReLU(inplace=True)\n",
              "          (conv): Conv2d(320, 16, kernel_size=(3, 3), stride=(1, 1), padding=(1, 1))\n",
              "          (drop): Dropout2d(p=0.2, inplace=False)\n",
              "        )\n",
              "        (2): DenseLayer(\n",
              "          (norm): BatchNorm2d(336, eps=1e-05, momentum=0.1, affine=True, track_running_stats=True)\n",
              "          (relu): ReLU(inplace=True)\n",
              "          (conv): Conv2d(336, 16, kernel_size=(3, 3), stride=(1, 1), padding=(1, 1))\n",
              "          (drop): Dropout2d(p=0.2, inplace=False)\n",
              "        )\n",
              "        (3): DenseLayer(\n",
              "          (norm): BatchNorm2d(352, eps=1e-05, momentum=0.1, affine=True, track_running_stats=True)\n",
              "          (relu): ReLU(inplace=True)\n",
              "          (conv): Conv2d(352, 16, kernel_size=(3, 3), stride=(1, 1), padding=(1, 1))\n",
              "          (drop): Dropout2d(p=0.2, inplace=False)\n",
              "        )\n",
              "        (4): DenseLayer(\n",
              "          (norm): BatchNorm2d(368, eps=1e-05, momentum=0.1, affine=True, track_running_stats=True)\n",
              "          (relu): ReLU(inplace=True)\n",
              "          (conv): Conv2d(368, 16, kernel_size=(3, 3), stride=(1, 1), padding=(1, 1))\n",
              "          (drop): Dropout2d(p=0.2, inplace=False)\n",
              "        )\n",
              "        (5): DenseLayer(\n",
              "          (norm): BatchNorm2d(384, eps=1e-05, momentum=0.1, affine=True, track_running_stats=True)\n",
              "          (relu): ReLU(inplace=True)\n",
              "          (conv): Conv2d(384, 16, kernel_size=(3, 3), stride=(1, 1), padding=(1, 1))\n",
              "          (drop): Dropout2d(p=0.2, inplace=False)\n",
              "        )\n",
              "        (6): DenseLayer(\n",
              "          (norm): BatchNorm2d(400, eps=1e-05, momentum=0.1, affine=True, track_running_stats=True)\n",
              "          (relu): ReLU(inplace=True)\n",
              "          (conv): Conv2d(400, 16, kernel_size=(3, 3), stride=(1, 1), padding=(1, 1))\n",
              "          (drop): Dropout2d(p=0.2, inplace=False)\n",
              "        )\n",
              "        (7): DenseLayer(\n",
              "          (norm): BatchNorm2d(416, eps=1e-05, momentum=0.1, affine=True, track_running_stats=True)\n",
              "          (relu): ReLU(inplace=True)\n",
              "          (conv): Conv2d(416, 16, kernel_size=(3, 3), stride=(1, 1), padding=(1, 1))\n",
              "          (drop): Dropout2d(p=0.2, inplace=False)\n",
              "        )\n",
              "        (8): DenseLayer(\n",
              "          (norm): BatchNorm2d(432, eps=1e-05, momentum=0.1, affine=True, track_running_stats=True)\n",
              "          (relu): ReLU(inplace=True)\n",
              "          (conv): Conv2d(432, 16, kernel_size=(3, 3), stride=(1, 1), padding=(1, 1))\n",
              "          (drop): Dropout2d(p=0.2, inplace=False)\n",
              "        )\n",
              "        (9): DenseLayer(\n",
              "          (norm): BatchNorm2d(448, eps=1e-05, momentum=0.1, affine=True, track_running_stats=True)\n",
              "          (relu): ReLU(inplace=True)\n",
              "          (conv): Conv2d(448, 16, kernel_size=(3, 3), stride=(1, 1), padding=(1, 1))\n",
              "          (drop): Dropout2d(p=0.2, inplace=False)\n",
              "        )\n",
              "      )\n",
              "    )\n",
              "    (4): DenseBlock(\n",
              "      (layers): ModuleList(\n",
              "        (0): DenseLayer(\n",
              "          (norm): BatchNorm2d(464, eps=1e-05, momentum=0.1, affine=True, track_running_stats=True)\n",
              "          (relu): ReLU(inplace=True)\n",
              "          (conv): Conv2d(464, 16, kernel_size=(3, 3), stride=(1, 1), padding=(1, 1))\n",
              "          (drop): Dropout2d(p=0.2, inplace=False)\n",
              "        )\n",
              "        (1): DenseLayer(\n",
              "          (norm): BatchNorm2d(480, eps=1e-05, momentum=0.1, affine=True, track_running_stats=True)\n",
              "          (relu): ReLU(inplace=True)\n",
              "          (conv): Conv2d(480, 16, kernel_size=(3, 3), stride=(1, 1), padding=(1, 1))\n",
              "          (drop): Dropout2d(p=0.2, inplace=False)\n",
              "        )\n",
              "        (2): DenseLayer(\n",
              "          (norm): BatchNorm2d(496, eps=1e-05, momentum=0.1, affine=True, track_running_stats=True)\n",
              "          (relu): ReLU(inplace=True)\n",
              "          (conv): Conv2d(496, 16, kernel_size=(3, 3), stride=(1, 1), padding=(1, 1))\n",
              "          (drop): Dropout2d(p=0.2, inplace=False)\n",
              "        )\n",
              "        (3): DenseLayer(\n",
              "          (norm): BatchNorm2d(512, eps=1e-05, momentum=0.1, affine=True, track_running_stats=True)\n",
              "          (relu): ReLU(inplace=True)\n",
              "          (conv): Conv2d(512, 16, kernel_size=(3, 3), stride=(1, 1), padding=(1, 1))\n",
              "          (drop): Dropout2d(p=0.2, inplace=False)\n",
              "        )\n",
              "        (4): DenseLayer(\n",
              "          (norm): BatchNorm2d(528, eps=1e-05, momentum=0.1, affine=True, track_running_stats=True)\n",
              "          (relu): ReLU(inplace=True)\n",
              "          (conv): Conv2d(528, 16, kernel_size=(3, 3), stride=(1, 1), padding=(1, 1))\n",
              "          (drop): Dropout2d(p=0.2, inplace=False)\n",
              "        )\n",
              "        (5): DenseLayer(\n",
              "          (norm): BatchNorm2d(544, eps=1e-05, momentum=0.1, affine=True, track_running_stats=True)\n",
              "          (relu): ReLU(inplace=True)\n",
              "          (conv): Conv2d(544, 16, kernel_size=(3, 3), stride=(1, 1), padding=(1, 1))\n",
              "          (drop): Dropout2d(p=0.2, inplace=False)\n",
              "        )\n",
              "        (6): DenseLayer(\n",
              "          (norm): BatchNorm2d(560, eps=1e-05, momentum=0.1, affine=True, track_running_stats=True)\n",
              "          (relu): ReLU(inplace=True)\n",
              "          (conv): Conv2d(560, 16, kernel_size=(3, 3), stride=(1, 1), padding=(1, 1))\n",
              "          (drop): Dropout2d(p=0.2, inplace=False)\n",
              "        )\n",
              "        (7): DenseLayer(\n",
              "          (norm): BatchNorm2d(576, eps=1e-05, momentum=0.1, affine=True, track_running_stats=True)\n",
              "          (relu): ReLU(inplace=True)\n",
              "          (conv): Conv2d(576, 16, kernel_size=(3, 3), stride=(1, 1), padding=(1, 1))\n",
              "          (drop): Dropout2d(p=0.2, inplace=False)\n",
              "        )\n",
              "        (8): DenseLayer(\n",
              "          (norm): BatchNorm2d(592, eps=1e-05, momentum=0.1, affine=True, track_running_stats=True)\n",
              "          (relu): ReLU(inplace=True)\n",
              "          (conv): Conv2d(592, 16, kernel_size=(3, 3), stride=(1, 1), padding=(1, 1))\n",
              "          (drop): Dropout2d(p=0.2, inplace=False)\n",
              "        )\n",
              "        (9): DenseLayer(\n",
              "          (norm): BatchNorm2d(608, eps=1e-05, momentum=0.1, affine=True, track_running_stats=True)\n",
              "          (relu): ReLU(inplace=True)\n",
              "          (conv): Conv2d(608, 16, kernel_size=(3, 3), stride=(1, 1), padding=(1, 1))\n",
              "          (drop): Dropout2d(p=0.2, inplace=False)\n",
              "        )\n",
              "        (10): DenseLayer(\n",
              "          (norm): BatchNorm2d(624, eps=1e-05, momentum=0.1, affine=True, track_running_stats=True)\n",
              "          (relu): ReLU(inplace=True)\n",
              "          (conv): Conv2d(624, 16, kernel_size=(3, 3), stride=(1, 1), padding=(1, 1))\n",
              "          (drop): Dropout2d(p=0.2, inplace=False)\n",
              "        )\n",
              "        (11): DenseLayer(\n",
              "          (norm): BatchNorm2d(640, eps=1e-05, momentum=0.1, affine=True, track_running_stats=True)\n",
              "          (relu): ReLU(inplace=True)\n",
              "          (conv): Conv2d(640, 16, kernel_size=(3, 3), stride=(1, 1), padding=(1, 1))\n",
              "          (drop): Dropout2d(p=0.2, inplace=False)\n",
              "        )\n",
              "      )\n",
              "    )\n",
              "  )\n",
              "  (transDownBlocks): ModuleList(\n",
              "    (0): TransitionDown(\n",
              "      (norm): BatchNorm2d(112, eps=1e-05, momentum=0.1, affine=True, track_running_stats=True)\n",
              "      (relu): ReLU(inplace=True)\n",
              "      (conv): Conv2d(112, 112, kernel_size=(1, 1), stride=(1, 1))\n",
              "      (drop): Dropout2d(p=0.2, inplace=False)\n",
              "      (maxpool): MaxPool2d(kernel_size=2, stride=2, padding=0, dilation=1, ceil_mode=False)\n",
              "    )\n",
              "    (1): TransitionDown(\n",
              "      (norm): BatchNorm2d(192, eps=1e-05, momentum=0.1, affine=True, track_running_stats=True)\n",
              "      (relu): ReLU(inplace=True)\n",
              "      (conv): Conv2d(192, 192, kernel_size=(1, 1), stride=(1, 1))\n",
              "      (drop): Dropout2d(p=0.2, inplace=False)\n",
              "      (maxpool): MaxPool2d(kernel_size=2, stride=2, padding=0, dilation=1, ceil_mode=False)\n",
              "    )\n",
              "    (2): TransitionDown(\n",
              "      (norm): BatchNorm2d(304, eps=1e-05, momentum=0.1, affine=True, track_running_stats=True)\n",
              "      (relu): ReLU(inplace=True)\n",
              "      (conv): Conv2d(304, 304, kernel_size=(1, 1), stride=(1, 1))\n",
              "      (drop): Dropout2d(p=0.2, inplace=False)\n",
              "      (maxpool): MaxPool2d(kernel_size=2, stride=2, padding=0, dilation=1, ceil_mode=False)\n",
              "    )\n",
              "    (3): TransitionDown(\n",
              "      (norm): BatchNorm2d(464, eps=1e-05, momentum=0.1, affine=True, track_running_stats=True)\n",
              "      (relu): ReLU(inplace=True)\n",
              "      (conv): Conv2d(464, 464, kernel_size=(1, 1), stride=(1, 1))\n",
              "      (drop): Dropout2d(p=0.2, inplace=False)\n",
              "      (maxpool): MaxPool2d(kernel_size=2, stride=2, padding=0, dilation=1, ceil_mode=False)\n",
              "    )\n",
              "    (4): TransitionDown(\n",
              "      (norm): BatchNorm2d(656, eps=1e-05, momentum=0.1, affine=True, track_running_stats=True)\n",
              "      (relu): ReLU(inplace=True)\n",
              "      (conv): Conv2d(656, 656, kernel_size=(1, 1), stride=(1, 1))\n",
              "      (drop): Dropout2d(p=0.2, inplace=False)\n",
              "      (maxpool): MaxPool2d(kernel_size=2, stride=2, padding=0, dilation=1, ceil_mode=False)\n",
              "    )\n",
              "  )\n",
              "  (bottleneck): Bottleneck(\n",
              "    (bottleneck): DenseBlock(\n",
              "      (layers): ModuleList(\n",
              "        (0): DenseLayer(\n",
              "          (norm): BatchNorm2d(656, eps=1e-05, momentum=0.1, affine=True, track_running_stats=True)\n",
              "          (relu): ReLU(inplace=True)\n",
              "          (conv): Conv2d(656, 16, kernel_size=(3, 3), stride=(1, 1), padding=(1, 1))\n",
              "          (drop): Dropout2d(p=0.2, inplace=False)\n",
              "        )\n",
              "        (1): DenseLayer(\n",
              "          (norm): BatchNorm2d(672, eps=1e-05, momentum=0.1, affine=True, track_running_stats=True)\n",
              "          (relu): ReLU(inplace=True)\n",
              "          (conv): Conv2d(672, 16, kernel_size=(3, 3), stride=(1, 1), padding=(1, 1))\n",
              "          (drop): Dropout2d(p=0.2, inplace=False)\n",
              "        )\n",
              "        (2): DenseLayer(\n",
              "          (norm): BatchNorm2d(688, eps=1e-05, momentum=0.1, affine=True, track_running_stats=True)\n",
              "          (relu): ReLU(inplace=True)\n",
              "          (conv): Conv2d(688, 16, kernel_size=(3, 3), stride=(1, 1), padding=(1, 1))\n",
              "          (drop): Dropout2d(p=0.2, inplace=False)\n",
              "        )\n",
              "        (3): DenseLayer(\n",
              "          (norm): BatchNorm2d(704, eps=1e-05, momentum=0.1, affine=True, track_running_stats=True)\n",
              "          (relu): ReLU(inplace=True)\n",
              "          (conv): Conv2d(704, 16, kernel_size=(3, 3), stride=(1, 1), padding=(1, 1))\n",
              "          (drop): Dropout2d(p=0.2, inplace=False)\n",
              "        )\n",
              "        (4): DenseLayer(\n",
              "          (norm): BatchNorm2d(720, eps=1e-05, momentum=0.1, affine=True, track_running_stats=True)\n",
              "          (relu): ReLU(inplace=True)\n",
              "          (conv): Conv2d(720, 16, kernel_size=(3, 3), stride=(1, 1), padding=(1, 1))\n",
              "          (drop): Dropout2d(p=0.2, inplace=False)\n",
              "        )\n",
              "        (5): DenseLayer(\n",
              "          (norm): BatchNorm2d(736, eps=1e-05, momentum=0.1, affine=True, track_running_stats=True)\n",
              "          (relu): ReLU(inplace=True)\n",
              "          (conv): Conv2d(736, 16, kernel_size=(3, 3), stride=(1, 1), padding=(1, 1))\n",
              "          (drop): Dropout2d(p=0.2, inplace=False)\n",
              "        )\n",
              "        (6): DenseLayer(\n",
              "          (norm): BatchNorm2d(752, eps=1e-05, momentum=0.1, affine=True, track_running_stats=True)\n",
              "          (relu): ReLU(inplace=True)\n",
              "          (conv): Conv2d(752, 16, kernel_size=(3, 3), stride=(1, 1), padding=(1, 1))\n",
              "          (drop): Dropout2d(p=0.2, inplace=False)\n",
              "        )\n",
              "        (7): DenseLayer(\n",
              "          (norm): BatchNorm2d(768, eps=1e-05, momentum=0.1, affine=True, track_running_stats=True)\n",
              "          (relu): ReLU(inplace=True)\n",
              "          (conv): Conv2d(768, 16, kernel_size=(3, 3), stride=(1, 1), padding=(1, 1))\n",
              "          (drop): Dropout2d(p=0.2, inplace=False)\n",
              "        )\n",
              "        (8): DenseLayer(\n",
              "          (norm): BatchNorm2d(784, eps=1e-05, momentum=0.1, affine=True, track_running_stats=True)\n",
              "          (relu): ReLU(inplace=True)\n",
              "          (conv): Conv2d(784, 16, kernel_size=(3, 3), stride=(1, 1), padding=(1, 1))\n",
              "          (drop): Dropout2d(p=0.2, inplace=False)\n",
              "        )\n",
              "        (9): DenseLayer(\n",
              "          (norm): BatchNorm2d(800, eps=1e-05, momentum=0.1, affine=True, track_running_stats=True)\n",
              "          (relu): ReLU(inplace=True)\n",
              "          (conv): Conv2d(800, 16, kernel_size=(3, 3), stride=(1, 1), padding=(1, 1))\n",
              "          (drop): Dropout2d(p=0.2, inplace=False)\n",
              "        )\n",
              "        (10): DenseLayer(\n",
              "          (norm): BatchNorm2d(816, eps=1e-05, momentum=0.1, affine=True, track_running_stats=True)\n",
              "          (relu): ReLU(inplace=True)\n",
              "          (conv): Conv2d(816, 16, kernel_size=(3, 3), stride=(1, 1), padding=(1, 1))\n",
              "          (drop): Dropout2d(p=0.2, inplace=False)\n",
              "        )\n",
              "        (11): DenseLayer(\n",
              "          (norm): BatchNorm2d(832, eps=1e-05, momentum=0.1, affine=True, track_running_stats=True)\n",
              "          (relu): ReLU(inplace=True)\n",
              "          (conv): Conv2d(832, 16, kernel_size=(3, 3), stride=(1, 1), padding=(1, 1))\n",
              "          (drop): Dropout2d(p=0.2, inplace=False)\n",
              "        )\n",
              "        (12): DenseLayer(\n",
              "          (norm): BatchNorm2d(848, eps=1e-05, momentum=0.1, affine=True, track_running_stats=True)\n",
              "          (relu): ReLU(inplace=True)\n",
              "          (conv): Conv2d(848, 16, kernel_size=(3, 3), stride=(1, 1), padding=(1, 1))\n",
              "          (drop): Dropout2d(p=0.2, inplace=False)\n",
              "        )\n",
              "        (13): DenseLayer(\n",
              "          (norm): BatchNorm2d(864, eps=1e-05, momentum=0.1, affine=True, track_running_stats=True)\n",
              "          (relu): ReLU(inplace=True)\n",
              "          (conv): Conv2d(864, 16, kernel_size=(3, 3), stride=(1, 1), padding=(1, 1))\n",
              "          (drop): Dropout2d(p=0.2, inplace=False)\n",
              "        )\n",
              "        (14): DenseLayer(\n",
              "          (norm): BatchNorm2d(880, eps=1e-05, momentum=0.1, affine=True, track_running_stats=True)\n",
              "          (relu): ReLU(inplace=True)\n",
              "          (conv): Conv2d(880, 16, kernel_size=(3, 3), stride=(1, 1), padding=(1, 1))\n",
              "          (drop): Dropout2d(p=0.2, inplace=False)\n",
              "        )\n",
              "      )\n",
              "    )\n",
              "  )\n",
              "  (transUpBlocks): ModuleList(\n",
              "    (0): TransitionUp(\n",
              "      (convTrans): ConvTranspose2d(240, 240, kernel_size=(3, 3), stride=(2, 2))\n",
              "    )\n",
              "    (1): TransitionUp(\n",
              "      (convTrans): ConvTranspose2d(192, 192, kernel_size=(3, 3), stride=(2, 2))\n",
              "    )\n",
              "    (2): TransitionUp(\n",
              "      (convTrans): ConvTranspose2d(160, 160, kernel_size=(3, 3), stride=(2, 2))\n",
              "    )\n",
              "    (3): TransitionUp(\n",
              "      (convTrans): ConvTranspose2d(112, 112, kernel_size=(3, 3), stride=(2, 2))\n",
              "    )\n",
              "    (4): TransitionUp(\n",
              "      (convTrans): ConvTranspose2d(80, 80, kernel_size=(3, 3), stride=(2, 2))\n",
              "    )\n",
              "  )\n",
              "  (denseBlocksUp): ModuleList(\n",
              "    (0): DenseBlock(\n",
              "      (layers): ModuleList(\n",
              "        (0): DenseLayer(\n",
              "          (norm): BatchNorm2d(896, eps=1e-05, momentum=0.1, affine=True, track_running_stats=True)\n",
              "          (relu): ReLU(inplace=True)\n",
              "          (conv): Conv2d(896, 16, kernel_size=(3, 3), stride=(1, 1), padding=(1, 1))\n",
              "          (drop): Dropout2d(p=0.2, inplace=False)\n",
              "        )\n",
              "        (1): DenseLayer(\n",
              "          (norm): BatchNorm2d(912, eps=1e-05, momentum=0.1, affine=True, track_running_stats=True)\n",
              "          (relu): ReLU(inplace=True)\n",
              "          (conv): Conv2d(912, 16, kernel_size=(3, 3), stride=(1, 1), padding=(1, 1))\n",
              "          (drop): Dropout2d(p=0.2, inplace=False)\n",
              "        )\n",
              "        (2): DenseLayer(\n",
              "          (norm): BatchNorm2d(928, eps=1e-05, momentum=0.1, affine=True, track_running_stats=True)\n",
              "          (relu): ReLU(inplace=True)\n",
              "          (conv): Conv2d(928, 16, kernel_size=(3, 3), stride=(1, 1), padding=(1, 1))\n",
              "          (drop): Dropout2d(p=0.2, inplace=False)\n",
              "        )\n",
              "        (3): DenseLayer(\n",
              "          (norm): BatchNorm2d(944, eps=1e-05, momentum=0.1, affine=True, track_running_stats=True)\n",
              "          (relu): ReLU(inplace=True)\n",
              "          (conv): Conv2d(944, 16, kernel_size=(3, 3), stride=(1, 1), padding=(1, 1))\n",
              "          (drop): Dropout2d(p=0.2, inplace=False)\n",
              "        )\n",
              "        (4): DenseLayer(\n",
              "          (norm): BatchNorm2d(960, eps=1e-05, momentum=0.1, affine=True, track_running_stats=True)\n",
              "          (relu): ReLU(inplace=True)\n",
              "          (conv): Conv2d(960, 16, kernel_size=(3, 3), stride=(1, 1), padding=(1, 1))\n",
              "          (drop): Dropout2d(p=0.2, inplace=False)\n",
              "        )\n",
              "        (5): DenseLayer(\n",
              "          (norm): BatchNorm2d(976, eps=1e-05, momentum=0.1, affine=True, track_running_stats=True)\n",
              "          (relu): ReLU(inplace=True)\n",
              "          (conv): Conv2d(976, 16, kernel_size=(3, 3), stride=(1, 1), padding=(1, 1))\n",
              "          (drop): Dropout2d(p=0.2, inplace=False)\n",
              "        )\n",
              "        (6): DenseLayer(\n",
              "          (norm): BatchNorm2d(992, eps=1e-05, momentum=0.1, affine=True, track_running_stats=True)\n",
              "          (relu): ReLU(inplace=True)\n",
              "          (conv): Conv2d(992, 16, kernel_size=(3, 3), stride=(1, 1), padding=(1, 1))\n",
              "          (drop): Dropout2d(p=0.2, inplace=False)\n",
              "        )\n",
              "        (7): DenseLayer(\n",
              "          (norm): BatchNorm2d(1008, eps=1e-05, momentum=0.1, affine=True, track_running_stats=True)\n",
              "          (relu): ReLU(inplace=True)\n",
              "          (conv): Conv2d(1008, 16, kernel_size=(3, 3), stride=(1, 1), padding=(1, 1))\n",
              "          (drop): Dropout2d(p=0.2, inplace=False)\n",
              "        )\n",
              "        (8): DenseLayer(\n",
              "          (norm): BatchNorm2d(1024, eps=1e-05, momentum=0.1, affine=True, track_running_stats=True)\n",
              "          (relu): ReLU(inplace=True)\n",
              "          (conv): Conv2d(1024, 16, kernel_size=(3, 3), stride=(1, 1), padding=(1, 1))\n",
              "          (drop): Dropout2d(p=0.2, inplace=False)\n",
              "        )\n",
              "        (9): DenseLayer(\n",
              "          (norm): BatchNorm2d(1040, eps=1e-05, momentum=0.1, affine=True, track_running_stats=True)\n",
              "          (relu): ReLU(inplace=True)\n",
              "          (conv): Conv2d(1040, 16, kernel_size=(3, 3), stride=(1, 1), padding=(1, 1))\n",
              "          (drop): Dropout2d(p=0.2, inplace=False)\n",
              "        )\n",
              "        (10): DenseLayer(\n",
              "          (norm): BatchNorm2d(1056, eps=1e-05, momentum=0.1, affine=True, track_running_stats=True)\n",
              "          (relu): ReLU(inplace=True)\n",
              "          (conv): Conv2d(1056, 16, kernel_size=(3, 3), stride=(1, 1), padding=(1, 1))\n",
              "          (drop): Dropout2d(p=0.2, inplace=False)\n",
              "        )\n",
              "        (11): DenseLayer(\n",
              "          (norm): BatchNorm2d(1072, eps=1e-05, momentum=0.1, affine=True, track_running_stats=True)\n",
              "          (relu): ReLU(inplace=True)\n",
              "          (conv): Conv2d(1072, 16, kernel_size=(3, 3), stride=(1, 1), padding=(1, 1))\n",
              "          (drop): Dropout2d(p=0.2, inplace=False)\n",
              "        )\n",
              "      )\n",
              "    )\n",
              "    (1): DenseBlock(\n",
              "      (layers): ModuleList(\n",
              "        (0): DenseLayer(\n",
              "          (norm): BatchNorm2d(656, eps=1e-05, momentum=0.1, affine=True, track_running_stats=True)\n",
              "          (relu): ReLU(inplace=True)\n",
              "          (conv): Conv2d(656, 16, kernel_size=(3, 3), stride=(1, 1), padding=(1, 1))\n",
              "          (drop): Dropout2d(p=0.2, inplace=False)\n",
              "        )\n",
              "        (1): DenseLayer(\n",
              "          (norm): BatchNorm2d(672, eps=1e-05, momentum=0.1, affine=True, track_running_stats=True)\n",
              "          (relu): ReLU(inplace=True)\n",
              "          (conv): Conv2d(672, 16, kernel_size=(3, 3), stride=(1, 1), padding=(1, 1))\n",
              "          (drop): Dropout2d(p=0.2, inplace=False)\n",
              "        )\n",
              "        (2): DenseLayer(\n",
              "          (norm): BatchNorm2d(688, eps=1e-05, momentum=0.1, affine=True, track_running_stats=True)\n",
              "          (relu): ReLU(inplace=True)\n",
              "          (conv): Conv2d(688, 16, kernel_size=(3, 3), stride=(1, 1), padding=(1, 1))\n",
              "          (drop): Dropout2d(p=0.2, inplace=False)\n",
              "        )\n",
              "        (3): DenseLayer(\n",
              "          (norm): BatchNorm2d(704, eps=1e-05, momentum=0.1, affine=True, track_running_stats=True)\n",
              "          (relu): ReLU(inplace=True)\n",
              "          (conv): Conv2d(704, 16, kernel_size=(3, 3), stride=(1, 1), padding=(1, 1))\n",
              "          (drop): Dropout2d(p=0.2, inplace=False)\n",
              "        )\n",
              "        (4): DenseLayer(\n",
              "          (norm): BatchNorm2d(720, eps=1e-05, momentum=0.1, affine=True, track_running_stats=True)\n",
              "          (relu): ReLU(inplace=True)\n",
              "          (conv): Conv2d(720, 16, kernel_size=(3, 3), stride=(1, 1), padding=(1, 1))\n",
              "          (drop): Dropout2d(p=0.2, inplace=False)\n",
              "        )\n",
              "        (5): DenseLayer(\n",
              "          (norm): BatchNorm2d(736, eps=1e-05, momentum=0.1, affine=True, track_running_stats=True)\n",
              "          (relu): ReLU(inplace=True)\n",
              "          (conv): Conv2d(736, 16, kernel_size=(3, 3), stride=(1, 1), padding=(1, 1))\n",
              "          (drop): Dropout2d(p=0.2, inplace=False)\n",
              "        )\n",
              "        (6): DenseLayer(\n",
              "          (norm): BatchNorm2d(752, eps=1e-05, momentum=0.1, affine=True, track_running_stats=True)\n",
              "          (relu): ReLU(inplace=True)\n",
              "          (conv): Conv2d(752, 16, kernel_size=(3, 3), stride=(1, 1), padding=(1, 1))\n",
              "          (drop): Dropout2d(p=0.2, inplace=False)\n",
              "        )\n",
              "        (7): DenseLayer(\n",
              "          (norm): BatchNorm2d(768, eps=1e-05, momentum=0.1, affine=True, track_running_stats=True)\n",
              "          (relu): ReLU(inplace=True)\n",
              "          (conv): Conv2d(768, 16, kernel_size=(3, 3), stride=(1, 1), padding=(1, 1))\n",
              "          (drop): Dropout2d(p=0.2, inplace=False)\n",
              "        )\n",
              "        (8): DenseLayer(\n",
              "          (norm): BatchNorm2d(784, eps=1e-05, momentum=0.1, affine=True, track_running_stats=True)\n",
              "          (relu): ReLU(inplace=True)\n",
              "          (conv): Conv2d(784, 16, kernel_size=(3, 3), stride=(1, 1), padding=(1, 1))\n",
              "          (drop): Dropout2d(p=0.2, inplace=False)\n",
              "        )\n",
              "        (9): DenseLayer(\n",
              "          (norm): BatchNorm2d(800, eps=1e-05, momentum=0.1, affine=True, track_running_stats=True)\n",
              "          (relu): ReLU(inplace=True)\n",
              "          (conv): Conv2d(800, 16, kernel_size=(3, 3), stride=(1, 1), padding=(1, 1))\n",
              "          (drop): Dropout2d(p=0.2, inplace=False)\n",
              "        )\n",
              "      )\n",
              "    )\n",
              "    (2): DenseBlock(\n",
              "      (layers): ModuleList(\n",
              "        (0): DenseLayer(\n",
              "          (norm): BatchNorm2d(464, eps=1e-05, momentum=0.1, affine=True, track_running_stats=True)\n",
              "          (relu): ReLU(inplace=True)\n",
              "          (conv): Conv2d(464, 16, kernel_size=(3, 3), stride=(1, 1), padding=(1, 1))\n",
              "          (drop): Dropout2d(p=0.2, inplace=False)\n",
              "        )\n",
              "        (1): DenseLayer(\n",
              "          (norm): BatchNorm2d(480, eps=1e-05, momentum=0.1, affine=True, track_running_stats=True)\n",
              "          (relu): ReLU(inplace=True)\n",
              "          (conv): Conv2d(480, 16, kernel_size=(3, 3), stride=(1, 1), padding=(1, 1))\n",
              "          (drop): Dropout2d(p=0.2, inplace=False)\n",
              "        )\n",
              "        (2): DenseLayer(\n",
              "          (norm): BatchNorm2d(496, eps=1e-05, momentum=0.1, affine=True, track_running_stats=True)\n",
              "          (relu): ReLU(inplace=True)\n",
              "          (conv): Conv2d(496, 16, kernel_size=(3, 3), stride=(1, 1), padding=(1, 1))\n",
              "          (drop): Dropout2d(p=0.2, inplace=False)\n",
              "        )\n",
              "        (3): DenseLayer(\n",
              "          (norm): BatchNorm2d(512, eps=1e-05, momentum=0.1, affine=True, track_running_stats=True)\n",
              "          (relu): ReLU(inplace=True)\n",
              "          (conv): Conv2d(512, 16, kernel_size=(3, 3), stride=(1, 1), padding=(1, 1))\n",
              "          (drop): Dropout2d(p=0.2, inplace=False)\n",
              "        )\n",
              "        (4): DenseLayer(\n",
              "          (norm): BatchNorm2d(528, eps=1e-05, momentum=0.1, affine=True, track_running_stats=True)\n",
              "          (relu): ReLU(inplace=True)\n",
              "          (conv): Conv2d(528, 16, kernel_size=(3, 3), stride=(1, 1), padding=(1, 1))\n",
              "          (drop): Dropout2d(p=0.2, inplace=False)\n",
              "        )\n",
              "        (5): DenseLayer(\n",
              "          (norm): BatchNorm2d(544, eps=1e-05, momentum=0.1, affine=True, track_running_stats=True)\n",
              "          (relu): ReLU(inplace=True)\n",
              "          (conv): Conv2d(544, 16, kernel_size=(3, 3), stride=(1, 1), padding=(1, 1))\n",
              "          (drop): Dropout2d(p=0.2, inplace=False)\n",
              "        )\n",
              "        (6): DenseLayer(\n",
              "          (norm): BatchNorm2d(560, eps=1e-05, momentum=0.1, affine=True, track_running_stats=True)\n",
              "          (relu): ReLU(inplace=True)\n",
              "          (conv): Conv2d(560, 16, kernel_size=(3, 3), stride=(1, 1), padding=(1, 1))\n",
              "          (drop): Dropout2d(p=0.2, inplace=False)\n",
              "        )\n",
              "      )\n",
              "    )\n",
              "    (3): DenseBlock(\n",
              "      (layers): ModuleList(\n",
              "        (0): DenseLayer(\n",
              "          (norm): BatchNorm2d(304, eps=1e-05, momentum=0.1, affine=True, track_running_stats=True)\n",
              "          (relu): ReLU(inplace=True)\n",
              "          (conv): Conv2d(304, 16, kernel_size=(3, 3), stride=(1, 1), padding=(1, 1))\n",
              "          (drop): Dropout2d(p=0.2, inplace=False)\n",
              "        )\n",
              "        (1): DenseLayer(\n",
              "          (norm): BatchNorm2d(320, eps=1e-05, momentum=0.1, affine=True, track_running_stats=True)\n",
              "          (relu): ReLU(inplace=True)\n",
              "          (conv): Conv2d(320, 16, kernel_size=(3, 3), stride=(1, 1), padding=(1, 1))\n",
              "          (drop): Dropout2d(p=0.2, inplace=False)\n",
              "        )\n",
              "        (2): DenseLayer(\n",
              "          (norm): BatchNorm2d(336, eps=1e-05, momentum=0.1, affine=True, track_running_stats=True)\n",
              "          (relu): ReLU(inplace=True)\n",
              "          (conv): Conv2d(336, 16, kernel_size=(3, 3), stride=(1, 1), padding=(1, 1))\n",
              "          (drop): Dropout2d(p=0.2, inplace=False)\n",
              "        )\n",
              "        (3): DenseLayer(\n",
              "          (norm): BatchNorm2d(352, eps=1e-05, momentum=0.1, affine=True, track_running_stats=True)\n",
              "          (relu): ReLU(inplace=True)\n",
              "          (conv): Conv2d(352, 16, kernel_size=(3, 3), stride=(1, 1), padding=(1, 1))\n",
              "          (drop): Dropout2d(p=0.2, inplace=False)\n",
              "        )\n",
              "        (4): DenseLayer(\n",
              "          (norm): BatchNorm2d(368, eps=1e-05, momentum=0.1, affine=True, track_running_stats=True)\n",
              "          (relu): ReLU(inplace=True)\n",
              "          (conv): Conv2d(368, 16, kernel_size=(3, 3), stride=(1, 1), padding=(1, 1))\n",
              "          (drop): Dropout2d(p=0.2, inplace=False)\n",
              "        )\n",
              "      )\n",
              "    )\n",
              "    (4): DenseBlock(\n",
              "      (layers): ModuleList(\n",
              "        (0): DenseLayer(\n",
              "          (norm): BatchNorm2d(192, eps=1e-05, momentum=0.1, affine=True, track_running_stats=True)\n",
              "          (relu): ReLU(inplace=True)\n",
              "          (conv): Conv2d(192, 16, kernel_size=(3, 3), stride=(1, 1), padding=(1, 1))\n",
              "          (drop): Dropout2d(p=0.2, inplace=False)\n",
              "        )\n",
              "        (1): DenseLayer(\n",
              "          (norm): BatchNorm2d(208, eps=1e-05, momentum=0.1, affine=True, track_running_stats=True)\n",
              "          (relu): ReLU(inplace=True)\n",
              "          (conv): Conv2d(208, 16, kernel_size=(3, 3), stride=(1, 1), padding=(1, 1))\n",
              "          (drop): Dropout2d(p=0.2, inplace=False)\n",
              "        )\n",
              "        (2): DenseLayer(\n",
              "          (norm): BatchNorm2d(224, eps=1e-05, momentum=0.1, affine=True, track_running_stats=True)\n",
              "          (relu): ReLU(inplace=True)\n",
              "          (conv): Conv2d(224, 16, kernel_size=(3, 3), stride=(1, 1), padding=(1, 1))\n",
              "          (drop): Dropout2d(p=0.2, inplace=False)\n",
              "        )\n",
              "        (3): DenseLayer(\n",
              "          (norm): BatchNorm2d(240, eps=1e-05, momentum=0.1, affine=True, track_running_stats=True)\n",
              "          (relu): ReLU(inplace=True)\n",
              "          (conv): Conv2d(240, 16, kernel_size=(3, 3), stride=(1, 1), padding=(1, 1))\n",
              "          (drop): Dropout2d(p=0.2, inplace=False)\n",
              "        )\n",
              "      )\n",
              "    )\n",
              "  )\n",
              "  (finalConv): Conv2d(256, 2, kernel_size=(1, 1), stride=(1, 1))\n",
              "  (softmax): LogSoftmax(dim=1)\n",
              ")"
            ]
          },
          "metadata": {
            "tags": []
          },
          "execution_count": 17
        }
      ]
    },
    {
      "cell_type": "markdown",
      "metadata": {
        "id": "sKbwQalfV6PR"
      },
      "source": [
        "# **Training and Validation**"
      ]
    },
    {
      "cell_type": "code",
      "metadata": {
        "id": "RXrGPX4jWIH-"
      },
      "source": [
        "LEARNING_RATE=0.01\n",
        "WEIGHT_DECAY = 1e-10"
      ],
      "execution_count": null,
      "outputs": []
    },
    {
      "cell_type": "code",
      "metadata": {
        "id": "XfJ-eIhWOrAp"
      },
      "source": [
        "optimizer = torch.optim.SGD(model.parameters(), lr=LEARNING_RATE, weight_decay=WEIGHT_DECAY)\n",
        "criterion=nn.CrossEntropyLoss()"
      ],
      "execution_count": null,
      "outputs": []
    },
    {
      "cell_type": "code",
      "metadata": {
        "id": "CVjYcmtCB-im"
      },
      "source": [
        "lr_scheduler = torch.optim.lr_scheduler.MultiStepLR(optimizer, milestones=[20, 30, 40], gamma=0.1)"
      ],
      "execution_count": null,
      "outputs": []
    },
    {
      "cell_type": "code",
      "metadata": {
        "id": "jD0jy_O6RGM7"
      },
      "source": [
        "EPOCHS=15"
      ],
      "execution_count": null,
      "outputs": []
    },
    {
      "cell_type": "code",
      "metadata": {
        "id": "3EAJfmHHVGts"
      },
      "source": [
        "MODEL_PATH=\"/content/drive/MyDrive/final_year_project/fcdensenet6.pth\""
      ],
      "execution_count": null,
      "outputs": []
    },
    {
      "cell_type": "code",
      "metadata": {
        "id": "NSuZSBU49C0v"
      },
      "source": [
        "def get_IOU(pred_m, gt_m):\n",
        "    pred_m=pred_m.cpu()\n",
        "    gt_m=gt_m.cpu()\n",
        "    intersection = np.logical_and(gt_m, pred_m)  \n",
        "\n",
        "    true_sum= gt_m[:,:].sum()\n",
        "    pred_sum= pred_m[:,:].sum()\n",
        "    intersection_sum = intersection[:,:].sum()\n",
        "\n",
        "    ji = (intersection_sum + 1.) / (true_sum + pred_sum - intersection_sum + 1.)\n",
        "\n",
        "    return ji           "
      ],
      "execution_count": null,
      "outputs": []
    },
    {
      "cell_type": "markdown",
      "metadata": {
        "id": "fI4cpNv8Wh9Y"
      },
      "source": [
        "**Load Model**"
      ]
    },
    {
      "cell_type": "code",
      "metadata": {
        "id": "42w2ro4GEV2L"
      },
      "source": [
        "current_epochs=0"
      ],
      "execution_count": null,
      "outputs": []
    },
    {
      "cell_type": "markdown",
      "metadata": {
        "id": "VJO-fP62HZJt"
      },
      "source": [
        "Run the cell below to load the model "
      ]
    },
    {
      "cell_type": "code",
      "metadata": {
        "id": "EzwsL8WkD8Mj"
      },
      "source": [
        "# model.load_state_dict(torch.load(MODEL_PATH))\n",
        "checkpoint = torch.load(MODEL_PATH)\n",
        "model.load_state_dict(checkpoint['model_state_dict'])\n",
        "current_epochs=checkpoint['epoch']\n",
        "criterion=checkpoint['loss']\n",
        "optimizer.load_state_dict(checkpoint['optimizer_state_dict'])\n",
        "lr_scheduler.load_state_dict(checkpoint['lr_scheduler_state_dict'])"
      ],
      "execution_count": null,
      "outputs": []
    },
    {
      "cell_type": "code",
      "metadata": {
        "id": "ttg_754zSR4A"
      },
      "source": [
        "def validate(model, dataloader, optimizer, criterion, val_data):\n",
        "    print('\\nValidating')\n",
        "    model.eval()\n",
        "    running_loss = 0.0\n",
        "    iou = 0.0\n",
        "    loop=tqdm(enumerate(dataloader),total=len(dataloader))\n",
        "    for i,data in loop:\n",
        "      images,masks=data\n",
        "      images=images.to(device,dtype=torch.float32)\n",
        "      masks=masks.to(device,dtype=torch.long)\n",
        "        \n",
        "      masks=masks.view(1,512,512)\n",
        "      # print(masks.shape)\n",
        "        \n",
        "      output=model(images) \n",
        "      loss=criterion(output,masks)\n",
        "      om=om = torch.argmax(output.squeeze(), dim=0)\n",
        "      om=om.view(1,512,512)\n",
        "        \n",
        "        \n",
        "      iou+=get_IOU(om,masks)        \n",
        "      running_loss += loss.item()\n",
        "      loop.set_postfix(loss=loss.item())\n",
        "\n",
        "    val_iou=iou/len(dataloader)\n",
        "    loss = running_loss / len(dataloader)\n",
        "    del loop\n",
        "    torch.cuda.empty_cache()\n",
        "    return loss, val_iou"
      ],
      "execution_count": null,
      "outputs": []
    },
    {
      "cell_type": "code",
      "metadata": {
        "id": "BUM9qMatRzmk"
      },
      "source": [
        "train_losses = []\n",
        "val_losses = []\n",
        "train_ious = []\n",
        "val_ious = []"
      ],
      "execution_count": null,
      "outputs": []
    },
    {
      "cell_type": "markdown",
      "metadata": {
        "id": "1sjPiqLBHBtG"
      },
      "source": [
        "run the cell below ,only if you use saved model"
      ]
    },
    {
      "cell_type": "code",
      "metadata": {
        "id": "9oc7i5cGDtIR"
      },
      "source": [
        "\n",
        "current_epochs=checkpoint['epoch']\n",
        "train_losses=checkpoint['train_losses']\n",
        "train_ious=checkpoint['train_ious']\n",
        "val_losses=checkpoint['val_losses']\n",
        "val_ious=checkpoint['val_ious']"
      ],
      "execution_count": null,
      "outputs": []
    },
    {
      "cell_type": "code",
      "metadata": {
        "id": "DeiVdOhA2guw"
      },
      "source": [
        "n_epochs_stop = 6\n",
        "epochs_no_improve = 0\n",
        "min_val_loss = np.Inf\n",
        "early_stop = False"
      ],
      "execution_count": null,
      "outputs": []
    },
    {
      "cell_type": "code",
      "metadata": {
        "id": "0e5mCQgOQ7Bt"
      },
      "source": [
        "for epoch in range(EPOCHS):\n",
        "  running_loss = 0.0\n",
        "  iou=0.0\n",
        "  loop=tqdm(enumerate(train_dl),total=len(train_dl))\n",
        "  model.train()\n",
        "  for i,data in loop:\n",
        "    images,masks=data\n",
        "    images=images.to(device,dtype=torch.float32)\n",
        "    masks=masks.to(device,dtype=torch.long)\n",
        "    \n",
        "    \n",
        "    masks=masks.view(1,512,512)\n",
        "    # print(masks.shape)\n",
        "    optimizer.zero_grad()\n",
        "    \n",
        "    output=model(images)\n",
        "    \n",
        "    # print(output.shape)\n",
        "    loss=criterion(output,masks)\n",
        "\n",
        "    loss.backward()\n",
        "    optimizer.step()\n",
        "    om=om = torch.argmax(output.squeeze(), dim=0)\n",
        "    om=om.view(1,512,512)\n",
        "    \n",
        "    \n",
        "    iou+=get_IOU(om,masks)\n",
        "    \n",
        "    running_loss += loss.item()\n",
        "    loop.set_postfix(loss=loss.item())\n",
        "  del loop\n",
        "  torch.cuda.empty_cache()\n",
        "  \n",
        "  train_iou=iou/len(train_dl)\n",
        "  train_loss = running_loss / len(train_dl)\n",
        "\n",
        "  #validation\n",
        "  with torch.no_grad():\n",
        "    val_loss,val_iou=validate(model,val_dl,optimizer,criterion,test_ds)\n",
        "  \n",
        "  # Early stopping criteria\n",
        "  if val_loss < min_val_loss:\n",
        "    epochs_no_improve = 0\n",
        "    min_val_loss = val_loss\n",
        "  else:\n",
        "    epochs_no_improve += 1\n",
        "\n",
        "  if current_epochs+epoch > 3 and epochs_no_improve == n_epochs_stop:\n",
        "    print('Early stopping at ', current_epochs+epoch, ' epochs.')\n",
        "    early_stop = True\n",
        "    break\n",
        "  \n",
        "  # Tracking performance metrics\n",
        "  train_losses.append(train_loss)\n",
        "  val_losses.append(val_loss)\n",
        "  train_ious.append(train_iou)\n",
        "  val_ious.append(val_iou)\n",
        "\n",
        "\n",
        "  lr_scheduler.step()\n",
        "  torch.save({\n",
        "                'epoch': current_epochs+epoch+1,\n",
        "                'model_state_dict': model.state_dict(),\n",
        "                'optimizer_state_dict': optimizer.state_dict(),\n",
        "                'loss': criterion,\n",
        "                'train_ious':train_ious,\n",
        "                'val_ious':val_ious,\n",
        "                'train_losses':train_losses,\n",
        "                'val_losses':val_losses,\n",
        "                'lr_scheduler_state_dict':lr_scheduler.state_dict()\n",
        "                }, MODEL_PATH)\n",
        "  print('\\nEpoch: %d, Training Loss: %.4f , IoU : %.4f' %(current_epochs+epoch + 1, train_loss,train_iou))\n",
        "  print('Epoch: %d, Validation Loss: %.4f , IoU : %.4f\\n' %(current_epochs+epoch + 1, val_loss,val_iou))\n",
        "  \n",
        "print(\"Finished Training..\")"
      ],
      "execution_count": null,
      "outputs": []
    },
    {
      "cell_type": "markdown",
      "metadata": {
        "id": "GJsT87LrZ7NC"
      },
      "source": [
        "# **Performance**"
      ]
    },
    {
      "cell_type": "code",
      "metadata": {
        "colab": {
          "base_uri": "https://localhost:8080/"
        },
        "id": "AT7iTd3DFEdi",
        "outputId": "e1c50bf4-af54-4b74-9d6d-1202c154eab5"
      },
      "source": [
        "current_epochs=current_epochs+epoch+1\n"
      ],
      "execution_count": null,
      "outputs": [
        {
          "output_type": "stream",
          "text": [
            "20\n"
          ],
          "name": "stdout"
        }
      ]
    },
    {
      "cell_type": "code",
      "metadata": {
        "colab": {
          "base_uri": "https://localhost:8080/"
        },
        "id": "QKADUwlVyCd1",
        "outputId": "8a7d4ecb-5ad9-4c86-8886-91acc5daab35"
      },
      "source": [
        "print(current_epochs)"
      ],
      "execution_count": null,
      "outputs": [
        {
          "output_type": "stream",
          "text": [
            "17\n"
          ],
          "name": "stdout"
        }
      ]
    },
    {
      "cell_type": "code",
      "metadata": {
        "id": "oSiEGC8ZaHm2"
      },
      "source": [
        "iters = [i+1 for i in range(current_epochs)]"
      ],
      "execution_count": null,
      "outputs": []
    },
    {
      "cell_type": "code",
      "metadata": {
        "id": "b4mHkT6-aO4B"
      },
      "source": [
        "plt.title(\"Training Curve (batch_size={}, lr={})\".format(BATCH_SIZE, LEARNING_RATE))\n",
        "plt.plot(iters, train_losses, label=\"Train\")\n",
        "plt.plot(iters, val_losses, label=\"Validation\")\n",
        "plt.xticks(iters)\n",
        "plt.xlabel(\"Epochs\")\n",
        "plt.ylabel(\"Loss\")\n",
        "plt.legend(loc='best')\n",
        "plt.show()\n",
        "\n",
        "plt.title(\"Training Curve (batch_size={}, lr={})\".format(BATCH_SIZE, LEARNING_RATE))\n",
        "plt.plot(iters, train_ious, label=\"Train\")\n",
        "plt.plot(iters, val_ious, label=\"Validation\")\n",
        "plt.xticks(iters)\n",
        "plt.xlabel(\"Epochs\")\n",
        "plt.ylabel(\"Accuracy\")\n",
        "plt.legend(loc='best')\n",
        "plt.show()\n",
        "\n",
        "print('\\n Final training accuracy: %.4f' %(train_ious[-1]))\n",
        "print('\\n Final validation accuracy: %.4f' %(val_ious[-1]))"
      ],
      "execution_count": null,
      "outputs": []
    },
    {
      "cell_type": "code",
      "metadata": {
        "id": "nYYM2-5EaYmY",
        "colab": {
          "base_uri": "https://localhost:8080/"
        },
        "outputId": "c8bd8f50-d104-4a34-fe79-110f062f0406"
      },
      "source": [
        "loss, iou = validate(model,test_dl,optimizer,criterion,test_ds)\n",
        "print('\\n Test: loss = %.4f, IoU = %.4f' %(loss, iou))"
      ],
      "execution_count": null,
      "outputs": [
        {
          "output_type": "stream",
          "text": [
            "\n",
            "Validating\n"
          ],
          "name": "stdout"
        },
        {
          "output_type": "stream",
          "text": [
            "/usr/local/lib/python3.7/dist-packages/torch/utils/data/dataloader.py:477: UserWarning: This DataLoader will create 4 worker processes in total. Our suggested max number of worker in current system is 2, which is smaller than what this DataLoader is going to create. Please be aware that excessive worker creation might get DataLoader running slow or even freeze, lower the worker number to avoid potential slowness/freeze if necessary.\n",
            "  cpuset_checked))\n",
            "100%|██████████| 130/130 [00:26<00:00,  4.91it/s, loss=0.078]"
          ],
          "name": "stderr"
        },
        {
          "output_type": "stream",
          "text": [
            "\n",
            " Test: loss = 0.1800, IoU = 0.7729\n"
          ],
          "name": "stdout"
        },
        {
          "output_type": "stream",
          "text": [
            "\n"
          ],
          "name": "stderr"
        }
      ]
    },
    {
      "cell_type": "markdown",
      "metadata": {
        "id": "PynzacDfap92"
      },
      "source": [
        "# **Testing**"
      ]
    },
    {
      "cell_type": "markdown",
      "metadata": {
        "id": "41S4BDJJ6EGa"
      },
      "source": [
        "# Display outputs"
      ]
    },
    {
      "cell_type": "code",
      "metadata": {
        "id": "grJig0n6axZU",
        "colab": {
          "base_uri": "https://localhost:8080/"
        },
        "outputId": "e3ded812-4782-49f5-c26e-c2537fbbdf3c"
      },
      "source": [
        "data=iter(test_dl)"
      ],
      "execution_count": null,
      "outputs": [
        {
          "output_type": "stream",
          "text": [
            "/usr/local/lib/python3.7/dist-packages/torch/utils/data/dataloader.py:477: UserWarning: This DataLoader will create 4 worker processes in total. Our suggested max number of worker in current system is 2, which is smaller than what this DataLoader is going to create. Please be aware that excessive worker creation might get DataLoader running slow or even freeze, lower the worker number to avoid potential slowness/freeze if necessary.\n",
            "  cpuset_checked))\n"
          ],
          "name": "stderr"
        }
      ]
    },
    {
      "cell_type": "code",
      "metadata": {
        "id": "k8ZM-EBwa0Lu"
      },
      "source": [
        "with torch.no_grad():\n",
        "  for i in range(3):\n",
        "    images,masks=next(data)\n",
        "    images=images.to(device)\n",
        "    out=model(images)\n",
        "    om = torch.argmax(out.squeeze(), dim=0).detach().cpu()\n",
        "    segmented_img=np.multiply(om.cpu().numpy(),np.array(images[0].cpu()))\n",
        "    \n",
        "\n",
        "    fig,ax=plt.subplots(nrows=1,ncols=4,figsize=(12,12))\n",
        "    fig. tight_layout(pad=1.0)\n",
        "    ax[0].imshow(np.squeeze(images[0].cpu().permute(1,2,0)),cmap='gray')\n",
        "    ax[0].set_title(\"chest x-ray\")\n",
        "\n",
        "    ax[1].imshow(om,cmap='gray')\n",
        "    ax[1].set_title(\"predicted mask\")\n",
        "\n",
        "    ax[2].set_title(\"segmented image\")\n",
        "    ax[2].imshow(segmented_img[1],cmap='gray')\n",
        "\n",
        "    ax[3].set_title(\"original mask\")\n",
        "    ax[3].imshow(np.squeeze(masks[0].cpu().permute(1,2,0)),cmap='gray')\n",
        "    plt.show()\n"
      ],
      "execution_count": null,
      "outputs": []
    }
  ]
}